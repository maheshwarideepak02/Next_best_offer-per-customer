{
 "cells": [
  {
   "cell_type": "code",
   "execution_count": 1,
   "metadata": {
    "colab": {},
    "colab_type": "code",
    "id": "Etv-laOA1WCm"
   },
   "outputs": [],
   "source": [
    "#importing the libraries\n",
    "import pandas as pd\n",
    "import numpy as np\n",
    "import matplotlib.pyplot as plt\n"
   ]
  },
  {
   "cell_type": "code",
   "execution_count": 2,
   "metadata": {
    "colab": {
     "base_uri": "https://localhost:8080/",
     "height": 34
    },
    "colab_type": "code",
    "id": "V4s-GeQ04mYX",
    "outputId": "c2b91f8d-4e9d-423f-ffd1-7931a2b737f5"
   },
   "outputs": [
    {
     "data": {
      "text/plain": [
       "'/usr/spark/spark-2.4.5-bin-hadoop2.7'"
      ]
     },
     "execution_count": 2,
     "metadata": {},
     "output_type": "execute_result"
    }
   ],
   "source": [
    "import findspark\n",
    "findspark.init()\n",
    "findspark.find()\n",
    "import pyspark\n",
    "findspark.find()"
   ]
  },
  {
   "cell_type": "code",
   "execution_count": 3,
   "metadata": {
    "colab": {},
    "colab_type": "code",
    "id": "7aBTM-BN20TO"
   },
   "outputs": [],
   "source": [
    "from pyspark import SparkContext, SparkConf\n",
    "from pyspark.sql import SparkSession\n",
    "conf=pyspark.SparkConf().setAppName('SparkApp').setMaster('local')\n",
    "sc=pyspark.SparkContext(conf=conf)\n",
    "spark=SparkSession(sc)\n",
    "from pyspark.sql.functions import col\n",
    "from pyspark.sql import SQLContext\n",
    "sqlContext = SQLContext(sc)"
   ]
  },
  {
   "cell_type": "code",
   "execution_count": 4,
   "metadata": {},
   "outputs": [],
   "source": [
    "import numpy as np\n",
    "from pyspark.ml.linalg import *\n",
    "from pyspark.sql.types import * \n",
    "from pyspark.sql.functions import *\n",
    "from pyspark.ml.feature import FeatureHasher\n",
    "from sklearn.metrics.pairwise import cosine_similarity"
   ]
  },
  {
   "cell_type": "code",
   "execution_count": 5,
   "metadata": {
    "colab": {},
    "colab_type": "code",
    "id": "hyRD7uNb47pl"
   },
   "outputs": [],
   "source": [
    "df = spark.read.format(\"csv\").load(\"hdfs://localhost:9000/user/deepak/orders/\")\n",
    "prod_order = spark.read.format(\"csv\").load(\"hdfs://localhost:9000/user/deepak/order_products_train/\")\n",
    "products = spark.read.format(\"csv\").load(\"hdfs://localhost:9000/user/deepak/products/\")"
   ]
  },
  {
   "cell_type": "code",
   "execution_count": 6,
   "metadata": {},
   "outputs": [
    {
     "name": "stdout",
     "output_type": "stream",
     "text": [
      "schema of orders table ['_c0', '_c1', '_c2', '_c3']\n",
      "schema of order_product_train table ['_c0', '_c1']\n",
      "schema of products table ['_c0', '_c1']\n"
     ]
    }
   ],
   "source": [
    "print(\"schema of orders table\",df.schema.names)\n",
    "print(\"schema of order_product_train table\",prod_order.schema.names)\n",
    "print(\"schema of products table\",products.schema.names)"
   ]
  },
  {
   "cell_type": "code",
   "execution_count": 7,
   "metadata": {
    "colab": {
     "base_uri": "https://localhost:8080/",
     "height": 286
    },
    "colab_type": "code",
    "id": "IS8OFfJu5p0q",
    "outputId": "6fc27da7-6c44-407f-891a-e37b01ad6cad"
   },
   "outputs": [],
   "source": [
    "products=products.select(col(\"_c0\").alias(\"product_id\"), col(\"_c1\").alias(\"product_name\"))\n",
    "prod_order=prod_order.select(col(\"_c0\").alias(\"order_id\"), col(\"_c1\").alias(\"product_id\"))\n",
    "df = df.select(col(\"_c0\").alias(\"order_id\"), col(\"_c1\").alias(\"user_id\"),col(\"_c2\").alias(\"order_number\"),col(\"_c3\").alias(\"days_since_prior_order\"))"
   ]
  },
  {
   "cell_type": "code",
   "execution_count": 8,
   "metadata": {},
   "outputs": [
    {
     "name": "stdout",
     "output_type": "stream",
     "text": [
      "+--------+-------+------------+----------------------+\n",
      "|order_id|user_id|order_number|days_since_prior_order|\n",
      "+--------+-------+------------+----------------------+\n",
      "| 2539329|      1|           1|                   0.0|\n",
      "| 2398795|      1|           2|                  15.0|\n",
      "|  473747|      1|           3|                  21.0|\n",
      "| 2254736|      1|           4|                  29.0|\n",
      "|  431534|      1|           5|                  28.0|\n",
      "| 3367565|      1|           6|                  19.0|\n",
      "|  550135|      1|           7|                  20.0|\n",
      "| 3108588|      1|           8|                  14.0|\n",
      "| 2295261|      1|           9|                   0.0|\n",
      "| 2550362|      1|          10|                  30.0|\n",
      "| 1187899|      1|          11|                  14.0|\n",
      "| 2168274|      2|           1|                   0.0|\n",
      "| 1501582|      2|           2|                  10.0|\n",
      "| 1901567|      2|           3|                   3.0|\n",
      "|  738281|      2|           4|                   8.0|\n",
      "| 1673511|      2|           5|                   8.0|\n",
      "| 1199898|      2|           6|                  13.0|\n",
      "| 3194192|      2|           7|                  14.0|\n",
      "|  788338|      2|           8|                  27.0|\n",
      "| 1718559|      2|           9|                   8.0|\n",
      "+--------+-------+------------+----------------------+\n",
      "only showing top 20 rows\n",
      "\n"
     ]
    }
   ],
   "source": [
    "df.show()"
   ]
  },
  {
   "cell_type": "code",
   "execution_count": 9,
   "metadata": {},
   "outputs": [
    {
     "name": "stdout",
     "output_type": "stream",
     "text": [
      "+--------+----------+\n",
      "|order_id|product_id|\n",
      "+--------+----------+\n",
      "|       1|     49302|\n",
      "|       1|     11109|\n",
      "|       1|     10246|\n",
      "|       1|     49683|\n",
      "|       1|     43633|\n",
      "|       1|     13176|\n",
      "|       1|     47209|\n",
      "|       1|     22035|\n",
      "|      36|     39612|\n",
      "|      36|     19660|\n",
      "|      36|     49235|\n",
      "|      36|     43086|\n",
      "|      36|     46620|\n",
      "|      36|     34497|\n",
      "|      36|     48679|\n",
      "|      36|     46979|\n",
      "|      38|     11913|\n",
      "|      38|     18159|\n",
      "|      38|      4461|\n",
      "|      38|     21616|\n",
      "+--------+----------+\n",
      "only showing top 20 rows\n",
      "\n"
     ]
    }
   ],
   "source": [
    "prod_order.show()"
   ]
  },
  {
   "cell_type": "code",
   "execution_count": 10,
   "metadata": {},
   "outputs": [
    {
     "name": "stdout",
     "output_type": "stream",
     "text": [
      "+----------+--------------------+\n",
      "|product_id|        product_name|\n",
      "+----------+--------------------+\n",
      "|         1|Chocolate Sandwic...|\n",
      "|         2|    All-Seasons Salt|\n",
      "|         3|Robust Golden Uns...|\n",
      "|         4|Smart Ones Classi...|\n",
      "|         5|Green Chile Anyti...|\n",
      "|         6|        Dry Nose Oil|\n",
      "|         7|Pure Coconut Wate...|\n",
      "|         8|Cut Russet Potato...|\n",
      "|         9|Light Strawberry ...|\n",
      "|        10|Sparkling Orange ...|\n",
      "|        11|   Peach Mango Juice|\n",
      "|        12|Chocolate Fudge L...|\n",
      "|        13|   Saline Nasal Mist|\n",
      "|        14|Fresh Scent Dishw...|\n",
      "|        15|Overnight Diapers...|\n",
      "|        16|Mint Chocolate Fl...|\n",
      "|        17|   Rendered Duck Fat|\n",
      "|        18|Pizza for One Sup...|\n",
      "|        19|Gluten Free Quino...|\n",
      "|        20|Pomegranate Cranb...|\n",
      "+----------+--------------------+\n",
      "only showing top 20 rows\n",
      "\n"
     ]
    }
   ],
   "source": [
    "products.show()"
   ]
  },
  {
   "cell_type": "code",
   "execution_count": 11,
   "metadata": {
    "colab": {},
    "colab_type": "code",
    "id": "FSgqJgi9axjJ"
   },
   "outputs": [],
   "source": [
    "df = df.join(prod_order, \"order_id\")"
   ]
  },
  {
   "cell_type": "code",
   "execution_count": 12,
   "metadata": {
    "colab": {},
    "colab_type": "code",
    "id": "1VnCf7t56Tcp"
   },
   "outputs": [],
   "source": [
    "df=df.na.drop()"
   ]
  },
  {
   "cell_type": "code",
   "execution_count": 13,
   "metadata": {
    "colab": {},
    "colab_type": "code",
    "id": "wi3CP3i86UF9"
   },
   "outputs": [],
   "source": [
    "df = df.dropDuplicates()"
   ]
  },
  {
   "cell_type": "code",
   "execution_count": 14,
   "metadata": {},
   "outputs": [
    {
     "name": "stdout",
     "output_type": "stream",
     "text": [
      "+--------+-------+------------+----------------------+----------+\n",
      "|order_id|user_id|order_number|days_since_prior_order|product_id|\n",
      "+--------+-------+------------+----------------------+----------+\n",
      "| 1005754| 147981|           4|                   5.0|     45210|\n",
      "| 1005754| 147981|           4|                   5.0|     12914|\n",
      "| 1005754| 147981|           4|                   5.0|     22366|\n",
      "| 1005754| 147981|           4|                   5.0|      1940|\n",
      "| 1005754| 147981|           4|                   5.0|     17224|\n",
      "| 1005754| 147981|           4|                   5.0|     44514|\n",
      "| 1005754| 147981|           4|                   5.0|     38371|\n",
      "| 1005754| 147981|           4|                   5.0|     13603|\n",
      "| 1005754| 147981|           4|                   5.0|     38511|\n",
      "| 1005754| 147981|           4|                   5.0|     47000|\n",
      "| 1005754| 147981|           4|                   5.0|      6218|\n",
      "| 1005754| 147981|           4|                   5.0|     12817|\n",
      "| 1015263| 153285|           9|                  22.0|     13176|\n",
      "| 1015263| 153285|           9|                  22.0|     47209|\n",
      "| 1015263| 153285|           9|                  22.0|     38544|\n",
      "| 1015263| 153285|           9|                  22.0|     27845|\n",
      "| 1015263| 153285|           9|                  22.0|     28204|\n",
      "| 1015263| 153285|           9|                  22.0|     27573|\n",
      "| 1015263| 153285|           9|                  22.0|      7854|\n",
      "| 1015263| 153285|           9|                  22.0|     48182|\n",
      "+--------+-------+------------+----------------------+----------+\n",
      "only showing top 20 rows\n",
      "\n"
     ]
    }
   ],
   "source": [
    "df.show()"
   ]
  },
  {
   "cell_type": "code",
   "execution_count": 15,
   "metadata": {
    "colab": {},
    "colab_type": "code",
    "id": "lglEZiPI6UKj"
   },
   "outputs": [],
   "source": [
    "columns_to_drop = ['order_number','order_id']\n",
    "\n",
    "df = df.drop(*columns_to_drop)"
   ]
  },
  {
   "cell_type": "code",
   "execution_count": 16,
   "metadata": {
    "colab": {},
    "colab_type": "code",
    "id": "TpbtPTAE6TxI"
   },
   "outputs": [],
   "source": [
    "df_filtered=df.selectExpr(\"cast(user_id as string) user_id\",\"cast(days_since_prior_order as int) days_since_prior_order\")"
   ]
  },
  {
   "cell_type": "code",
   "execution_count": 17,
   "metadata": {
    "colab": {},
    "colab_type": "code",
    "id": "6a0Nvgi56Tk7"
   },
   "outputs": [],
   "source": [
    "df2=df_filtered.filter(df_filtered.days_since_prior_order > 0)"
   ]
  },
  {
   "cell_type": "code",
   "execution_count": 18,
   "metadata": {
    "colab": {},
    "colab_type": "code",
    "id": "v8utXnLg6Thl"
   },
   "outputs": [],
   "source": [
    "from pyspark.sql.functions import mean, min, max, sum, datediff, to_date\n",
    "from pyspark.sql import functions as s\n"
   ]
  },
  {
   "cell_type": "code",
   "execution_count": 19,
   "metadata": {
    "colab": {},
    "colab_type": "code",
    "id": "n32TENU7O2uZ"
   },
   "outputs": [],
   "source": [
    "rec = df2.groupBy('user_id').agg(mean('days_since_prior_order').alias('Next_Transaction'))\n",
    "freq=df2.groupBy('user_id').agg(s.count('days_since_prior_order').alias('Frequency'))\n",
    "\n",
    "customers = rec.join(freq, \"user_id\")"
   ]
  },
  {
   "cell_type": "code",
   "execution_count": 20,
   "metadata": {
    "colab": {
     "base_uri": "https://localhost:8080/",
     "height": 185
    },
    "colab_type": "code",
    "id": "uo0D9DL3O3CU",
    "outputId": "9fb55676-ac18-4a95-9fd5-ecfe3cd90dd6"
   },
   "outputs": [
    {
     "name": "stdout",
     "output_type": "stream",
     "text": [
      "+-------+------------------+------------------+\n",
      "|summary|  Next_Transaction|         Frequency|\n",
      "+-------+------------------+------------------+\n",
      "|  count|            129083|            129083|\n",
      "|   mean| 17.33067096364355|10.594524453258757|\n",
      "| stddev|10.535917595128629| 7.933946159680307|\n",
      "|    min|               1.0|                 1|\n",
      "|    max|              30.0|                80|\n",
      "+-------+------------------+------------------+\n",
      "\n"
     ]
    }
   ],
   "source": [
    "cols = ['Next_Transaction','Frequency']\n",
    "customers.describe(cols).show()"
   ]
  },
  {
   "cell_type": "code",
   "execution_count": 21,
   "metadata": {
    "colab": {
     "base_uri": "https://localhost:8080/",
     "height": 454
    },
    "colab_type": "code",
    "id": "gzrolHcOfIoL",
    "outputId": "fa29b277-b4d3-4915-8cd4-ee4f220a138c"
   },
   "outputs": [
    {
     "name": "stdout",
     "output_type": "stream",
     "text": [
      "+-------+----------------+---------+\n",
      "|user_id|Next_Transaction|Frequency|\n",
      "+-------+----------------+---------+\n",
      "| 100140|            28.0|       13|\n",
      "| 100263|             7.0|        4|\n",
      "| 100320|             4.0|        8|\n",
      "| 100735|             7.0|       20|\n",
      "| 100768|            25.0|        1|\n",
      "|  10096|             9.0|       10|\n",
      "| 100964|            23.0|        6|\n",
      "| 101205|            30.0|       63|\n",
      "| 101261|             1.0|        2|\n",
      "| 102113|            11.0|       12|\n",
      "| 102521|            26.0|       14|\n",
      "| 102684|             5.0|       11|\n",
      "| 102745|            30.0|        4|\n",
      "| 102944|             7.0|       10|\n",
      "| 102952|             8.0|        8|\n",
      "| 103050|            18.0|       11|\n",
      "| 103368|            30.0|        9|\n",
      "|  10351|            21.0|       14|\n",
      "| 103634|             6.0|       43|\n",
      "| 104344|             9.0|       11|\n",
      "+-------+----------------+---------+\n",
      "only showing top 20 rows\n",
      "\n"
     ]
    }
   ],
   "source": [
    "customers.show()"
   ]
  },
  {
   "cell_type": "code",
   "execution_count": 22,
   "metadata": {
    "colab": {},
    "colab_type": "code",
    "id": "JbNlduN0fBcx"
   },
   "outputs": [],
   "source": [
    "pd_df = customers.toPandas()"
   ]
  },
  {
   "cell_type": "code",
   "execution_count": 23,
   "metadata": {
    "colab": {
     "base_uri": "https://localhost:8080/",
     "height": 457
    },
    "colab_type": "code",
    "id": "pernp9zfg35m",
    "outputId": "14327702-578e-4396-d718-c87ccba48a9b"
   },
   "outputs": [
    {
     "data": {
      "image/png": "[encoded data removed]",
      "text/plain": [
       "<Figure size 1080x504 with 1 Axes>"
      ]
     },
     "metadata": {},
     "output_type": "display_data"
    }
   ],
   "source": [
    "# Plotting the graph between Customers and their next puchase before filteration of the top customers\n",
    "import matplotlib.pyplot as plt\n",
    "import pandas as pd\n",
    "#changing the type to int \n",
    "pd_df.Next_Transaction=pd_df.Next_Transaction.astype(int)\n",
    "co = [\"Yellow\",\"Blue\",\"Red\"]\n",
    "\n",
    "plt.style.use(\"seaborn\")\n",
    "\n",
    "fig, ax = plt.subplots(figsize = (15,7))\n",
    "\n",
    "ax.bar(pd_df[\"Next_Transaction\"].value_counts().index,\n",
    "       pd_df[\"Next_Transaction\"].value_counts(),color=co)\n",
    "\n",
    "ax.set(title = \"Next Purchase VS No of Customers\",\n",
    "       xlabel = \"Next Purchase\",\n",
    "       ylabel = \"No of Customers\",\n",
    "       xlim = (1,31))\n",
    "\n",
    "\n",
    "plt.show()"
   ]
  },
  {
   "cell_type": "code",
   "execution_count": 24,
   "metadata": {
    "colab": {
     "base_uri": "https://localhost:8080/",
     "height": 457
    },
    "colab_type": "code",
    "id": "SZums1Rbg4dP",
    "outputId": "bc473493-479b-429a-8d95-e80dde9b73b7"
   },
   "outputs": [
    {
     "data": {
      "image/png": "[encoded data removed]",
      "text/plain": [
       "<Figure size 1080x504 with 1 Axes>"
      ]
     },
     "metadata": {},
     "output_type": "display_data"
    }
   ],
   "source": [
    "# Plotting the graph between Customers and their frequency before filteration of the top customers\n",
    "\n",
    "co = [\"Yellow\",\"Blue\",\"Red\"]\n",
    "\n",
    "plt.style.use(\"seaborn\")\n",
    "\n",
    "fig, ax = plt.subplots(figsize = (15,7))\n",
    "\n",
    "ax.bar(pd_df[\"Frequency\"].value_counts().index,\n",
    "       pd_df[\"Frequency\"].value_counts(),color=co)\n",
    "\n",
    "ax.set(title = \"Frequency VS No of Customers Plot\",\n",
    "       xlabel = \"Frequency\",\n",
    "       ylabel = \"No of Customers\",\n",
    "       xlim = (1,80))\n",
    "\n",
    "\n",
    "plt.show()"
   ]
  },
  {
   "cell_type": "code",
   "execution_count": 25,
   "metadata": {
    "colab": {
     "base_uri": "https://localhost:8080/",
     "height": 342
    },
    "colab_type": "code",
    "id": "eFC3YWAOg4-d",
    "outputId": "40cbc263-6579-428a-98fe-9f7263ee3027"
   },
   "outputs": [
    {
     "data": {
      "image/png": "[encoded data removed]",
      "text/plain": [
       "<Figure size 1656x504 with 1 Axes>"
      ]
     },
     "metadata": {},
     "output_type": "display_data"
    }
   ],
   "source": [
    "#Group comparison of Frequency with Next transcaton of respective customers before filteration\n",
    "label=pd_df.user_id[:10]\n",
    "plt.figure(figsize=(23,7))\n",
    "plt.style.use(\"seaborn\")\n",
    "plt.bar(pd_df[\"user_id\"].index[:10],pd_df[\"Frequency\"][:10],label=\"Frequency\",width=0.35)\n",
    "plt.bar(pd_df[\"user_id\"].index[:10] +0.35,pd_df[\"Next_Transaction\"][:10],label=\"Next_Transaction\",width=0.35)\n",
    "plt.xticks(pd_df[\"user_id\"].index[:10]+0.35/2,label)\n",
    "plt.legend()\n",
    "plt.xlabel(\"Users with their id\")\n",
    "plt.title(\"Group comparison of Frequency with Next transcaton of respective customers\" )\n",
    "plt.show()"
   ]
  },
  {
   "cell_type": "code",
   "execution_count": 26,
   "metadata": {
    "colab": {
     "base_uri": "https://localhost:8080/",
     "height": 34
    },
    "colab_type": "code",
    "id": "GIxWkBLpO3UU",
    "outputId": "d3ed76d2-9f02-4b25-fecf-de1cc7b7b409"
   },
   "outputs": [
    {
     "data": {
      "text/plain": [
       "[[7.0, 15.0, 30.0], [5.0, 9.0, 14.0]]"
      ]
     },
     "execution_count": 26,
     "metadata": {},
     "output_type": "execute_result"
    }
   ],
   "source": [
    "customers.approxQuantile(cols,[0.25,0.5,0.75],0.0)"
   ]
  },
  {
   "cell_type": "code",
   "execution_count": 27,
   "metadata": {
    "colab": {},
    "colab_type": "code",
    "id": "3nsq3_xTO3Qe"
   },
   "outputs": [],
   "source": [
    "def RScore(x):\n",
    "    if  x <= 10:\n",
    "        return 'L'\n",
    "    elif x<= 15:\n",
    "        return 'M'\n",
    "    elif x<= 20:\n",
    "        return 'AM'\n",
    "    else:\n",
    "        return 'H'\n",
    "\n",
    "def FScore(x):\n",
    "    if  x <= 5 :\n",
    "        return 'L'\n",
    "    elif x <= 9:\n",
    "        return 'M'\n",
    "    elif x <= 19:\n",
    "        return 'AM'\n",
    "    else:\n",
    "        return 'H'\n",
    "\n",
    "\n",
    "from pyspark.sql.functions import udf\n",
    "from pyspark.sql.types import StringType, DoubleType\n",
    "\n",
    "R_udf = udf(lambda x: RScore(x), StringType())\n",
    "F_udf = udf(lambda x: FScore(x), StringType())\n"
   ]
  },
  {
   "cell_type": "code",
   "execution_count": 28,
   "metadata": {
    "colab": {},
    "colab_type": "code",
    "id": "dYzX3_ujO29z"
   },
   "outputs": [],
   "source": [
    "rf_seg = customers.withColumn(\"next_seg\", R_udf(\"Next_Transaction\"))"
   ]
  },
  {
   "cell_type": "code",
   "execution_count": 29,
   "metadata": {
    "colab": {},
    "colab_type": "code",
    "id": "LamiK7BKRYNO"
   },
   "outputs": [],
   "source": [
    "rf_seg = rf_seg.withColumn(\"freq_seg\", F_udf(\"Frequency\"))"
   ]
  },
  {
   "cell_type": "code",
   "execution_count": 30,
   "metadata": {
    "colab": {
     "base_uri": "https://localhost:8080/",
     "height": 454
    },
    "colab_type": "code",
    "id": "u3rMkHDjRa2C",
    "outputId": "6da66096-61a9-4103-acda-c2c0ec72fb30"
   },
   "outputs": [
    {
     "name": "stdout",
     "output_type": "stream",
     "text": [
      "+-------+----------------+---------+--------+--------+\n",
      "|user_id|Next_Transaction|Frequency|next_seg|freq_seg|\n",
      "+-------+----------------+---------+--------+--------+\n",
      "| 100140|            28.0|       13|       H|      AM|\n",
      "| 100263|             7.0|        4|       L|       L|\n",
      "| 100320|             4.0|        8|       L|       M|\n",
      "| 100735|             7.0|       20|       L|       H|\n",
      "| 100768|            25.0|        1|       H|       L|\n",
      "|  10096|             9.0|       10|       L|      AM|\n",
      "| 100964|            23.0|        6|       H|       M|\n",
      "| 101205|            30.0|       63|       H|       H|\n",
      "| 101261|             1.0|        2|       L|       L|\n",
      "| 102113|            11.0|       12|       M|      AM|\n",
      "| 102521|            26.0|       14|       H|      AM|\n",
      "| 102684|             5.0|       11|       L|      AM|\n",
      "| 102745|            30.0|        4|       H|       L|\n",
      "| 102944|             7.0|       10|       L|      AM|\n",
      "| 102952|             8.0|        8|       L|       M|\n",
      "| 103050|            18.0|       11|      AM|      AM|\n",
      "| 103368|            30.0|        9|       H|       M|\n",
      "|  10351|            21.0|       14|       H|      AM|\n",
      "| 103634|             6.0|       43|       L|       H|\n",
      "| 104344|             9.0|       11|       L|      AM|\n",
      "+-------+----------------+---------+--------+--------+\n",
      "only showing top 20 rows\n",
      "\n"
     ]
    }
   ],
   "source": [
    "rf_seg.show()"
   ]
  },
  {
   "cell_type": "code",
   "execution_count": 31,
   "metadata": {
    "colab": {},
    "colab_type": "code",
    "id": "YrF3cPitRdKT"
   },
   "outputs": [],
   "source": [
    "rf_seg = rf_seg.withColumn('Ranking',s.concat(s.col('next_seg'),s.col('freq_seg')))"
   ]
  },
  {
   "cell_type": "code",
   "execution_count": 32,
   "metadata": {
    "colab": {
     "base_uri": "https://localhost:8080/",
     "height": 454
    },
    "colab_type": "code",
    "id": "eXl0NKu3SdOd",
    "outputId": "88806201-f281-4945-aacc-2cf7e1a0ae5f"
   },
   "outputs": [
    {
     "name": "stdout",
     "output_type": "stream",
     "text": [
      "+-------+----------------+---------+--------+--------+-------+\n",
      "|user_id|Next_Transaction|Frequency|next_seg|freq_seg|Ranking|\n",
      "+-------+----------------+---------+--------+--------+-------+\n",
      "| 100140|            28.0|       13|       H|      AM|    HAM|\n",
      "| 100263|             7.0|        4|       L|       L|     LL|\n",
      "| 100320|             4.0|        8|       L|       M|     LM|\n",
      "| 100735|             7.0|       20|       L|       H|     LH|\n",
      "| 100768|            25.0|        1|       H|       L|     HL|\n",
      "|  10096|             9.0|       10|       L|      AM|    LAM|\n",
      "| 100964|            23.0|        6|       H|       M|     HM|\n",
      "| 101205|            30.0|       63|       H|       H|     HH|\n",
      "| 101261|             1.0|        2|       L|       L|     LL|\n",
      "| 102113|            11.0|       12|       M|      AM|    MAM|\n",
      "| 102521|            26.0|       14|       H|      AM|    HAM|\n",
      "| 102684|             5.0|       11|       L|      AM|    LAM|\n",
      "| 102745|            30.0|        4|       H|       L|     HL|\n",
      "| 102944|             7.0|       10|       L|      AM|    LAM|\n",
      "| 102952|             8.0|        8|       L|       M|     LM|\n",
      "| 103050|            18.0|       11|      AM|      AM|   AMAM|\n",
      "| 103368|            30.0|        9|       H|       M|     HM|\n",
      "|  10351|            21.0|       14|       H|      AM|    HAM|\n",
      "| 103634|             6.0|       43|       L|       H|     LH|\n",
      "| 104344|             9.0|       11|       L|      AM|    LAM|\n",
      "+-------+----------------+---------+--------+--------+-------+\n",
      "only showing top 20 rows\n",
      "\n"
     ]
    }
   ],
   "source": [
    "rf_seg.show()"
   ]
  },
  {
   "cell_type": "code",
   "execution_count": 33,
   "metadata": {
    "colab": {},
    "colab_type": "code",
    "id": "zZl-k8ViSlAY"
   },
   "outputs": [],
   "source": [
    "top_customers=rf_seg.filter(rf_seg.Ranking =='LH')"
   ]
  },
  {
   "cell_type": "code",
   "execution_count": 34,
   "metadata": {
    "colab": {
     "base_uri": "https://localhost:8080/",
     "height": 454
    },
    "colab_type": "code",
    "id": "7FrVV1X0TOeb",
    "outputId": "0b167c42-f4f5-496e-d2f6-632a8f61c569"
   },
   "outputs": [
    {
     "name": "stdout",
     "output_type": "stream",
     "text": [
      "+-------+----------------+---------+--------+--------+-------+\n",
      "|user_id|Next_Transaction|Frequency|next_seg|freq_seg|Ranking|\n",
      "+-------+----------------+---------+--------+--------+-------+\n",
      "| 100735|             7.0|       20|       L|       H|     LH|\n",
      "| 103634|             6.0|       43|       L|       H|     LH|\n",
      "| 106022|             3.0|       26|       L|       H|     LH|\n",
      "| 108791|             4.0|       20|       L|       H|     LH|\n",
      "|  11888|             6.0|       26|       L|       H|     LH|\n",
      "| 120478|             5.0|       36|       L|       H|     LH|\n",
      "| 128357|             5.0|       20|       L|       H|     LH|\n",
      "| 137217|             6.0|       31|       L|       H|     LH|\n",
      "| 142039|             7.0|       33|       L|       H|     LH|\n",
      "| 143037|             2.0|       26|       L|       H|     LH|\n",
      "| 146433|             8.0|       24|       L|       H|     LH|\n",
      "| 147754|             7.0|       29|       L|       H|     LH|\n",
      "| 161622|             9.0|       20|       L|       H|     LH|\n",
      "| 164558|            10.0|       25|       L|       H|     LH|\n",
      "| 172857|             6.0|       22|       L|       H|     LH|\n",
      "| 173567|             5.0|       23|       L|       H|     LH|\n",
      "| 174116|             7.0|       26|       L|       H|     LH|\n",
      "|  18130|             7.0|       26|       L|       H|     LH|\n",
      "|  19338|             7.0|       26|       L|       H|     LH|\n",
      "| 199457|             8.0|       22|       L|       H|     LH|\n",
      "+-------+----------------+---------+--------+--------+-------+\n",
      "only showing top 20 rows\n",
      "\n"
     ]
    }
   ],
   "source": [
    "top_customers.show()"
   ]
  },
  {
   "cell_type": "code",
   "execution_count": 35,
   "metadata": {
    "colab": {},
    "colab_type": "code",
    "id": "S91_8IvpTnnk"
   },
   "outputs": [],
   "source": [
    "columns_to_drop = ['next_seg','freq_seg','Ranking']\n",
    "\n",
    "df = top_customers.drop(*columns_to_drop)"
   ]
  },
  {
   "cell_type": "code",
   "execution_count": 36,
   "metadata": {
    "colab": {
     "base_uri": "https://localhost:8080/",
     "height": 454
    },
    "colab_type": "code",
    "id": "ykI-W8k6XrG7",
    "outputId": "fcbefc1d-1b40-48ae-ac33-17a7d8e89c2c"
   },
   "outputs": [
    {
     "name": "stdout",
     "output_type": "stream",
     "text": [
      "+-------+----------------+---------+\n",
      "|user_id|Next_Transaction|Frequency|\n",
      "+-------+----------------+---------+\n",
      "| 100735|             7.0|       20|\n",
      "| 103634|             6.0|       43|\n",
      "| 106022|             3.0|       26|\n",
      "| 108791|             4.0|       20|\n",
      "|  11888|             6.0|       26|\n",
      "| 120478|             5.0|       36|\n",
      "| 128357|             5.0|       20|\n",
      "| 137217|             6.0|       31|\n",
      "| 142039|             7.0|       33|\n",
      "| 143037|             2.0|       26|\n",
      "| 146433|             8.0|       24|\n",
      "| 147754|             7.0|       29|\n",
      "| 161622|             9.0|       20|\n",
      "| 164558|            10.0|       25|\n",
      "| 172857|             6.0|       22|\n",
      "| 173567|             5.0|       23|\n",
      "| 174116|             7.0|       26|\n",
      "|  18130|             7.0|       26|\n",
      "|  19338|             7.0|       26|\n",
      "| 199457|             8.0|       22|\n",
      "+-------+----------------+---------+\n",
      "only showing top 20 rows\n",
      "\n"
     ]
    }
   ],
   "source": [
    "df.show()"
   ]
  },
  {
   "cell_type": "code",
   "execution_count": 37,
   "metadata": {
    "colab": {},
    "colab_type": "code",
    "id": "8dfuo8slXs8l"
   },
   "outputs": [],
   "source": [
    "pd_df2 = top_customers.toPandas()"
   ]
  },
  {
   "cell_type": "code",
   "execution_count": 38,
   "metadata": {
    "colab": {
     "base_uri": "https://localhost:8080/",
     "height": 457
    },
    "colab_type": "code",
    "id": "1j0HJBfYYIjY",
    "outputId": "4c6d3207-7230-4ccd-ed56-a0cb9986cf5c"
   },
   "outputs": [
    {
     "data": {
      "image/png": "[encoded data removed]",
      "text/plain": [
       "<Figure size 1080x504 with 1 Axes>"
      ]
     },
     "metadata": {},
     "output_type": "display_data"
    }
   ],
   "source": [
    "# Plotting the graph between Customers and their next puchase after filteration of the top customers\n",
    "import matplotlib.pyplot as plt\n",
    "import pandas as pd\n",
    "#changing the type to int \n",
    "pd_df2.Next_Transaction=pd_df2.Next_Transaction.astype(int)\n",
    "co = [\"Yellow\",\"Blue\",\"Red\"]\n",
    "\n",
    "plt.style.use(\"seaborn\")\n",
    "\n",
    "fig, ax = plt.subplots(figsize = (15,7))\n",
    "\n",
    "ax.bar(pd_df2[\"Next_Transaction\"].value_counts().index,\n",
    "       pd_df2[\"Next_Transaction\"].value_counts(),color=co)\n",
    "\n",
    "ax.set(title = \"Next Purchase VS No of Customers\",\n",
    "       xlabel = \"Next Purchase\",\n",
    "       ylabel = \"No of Customers\",\n",
    "       xlim = (1,12))\n",
    "\n",
    "\n",
    "plt.show()"
   ]
  },
  {
   "cell_type": "code",
   "execution_count": 39,
   "metadata": {
    "colab": {
     "base_uri": "https://localhost:8080/",
     "height": 457
    },
    "colab_type": "code",
    "id": "rNFyEgpvYmiJ",
    "outputId": "24a4369d-52a4-4606-8588-4658ac39de5a"
   },
   "outputs": [
    {
     "data": {
      "image/png": "[encoded data removed]",
      "text/plain": [
       "<Figure size 1080x504 with 1 Axes>"
      ]
     },
     "metadata": {},
     "output_type": "display_data"
    }
   ],
   "source": [
    "# Plotting the graph between Customers and their frequency after filteration of the top customers\n",
    "\n",
    "co = [\"Yellow\",\"Blue\",\"Red\"]\n",
    "\n",
    "plt.style.use(\"seaborn\")\n",
    "\n",
    "fig, ax = plt.subplots(figsize = (15,7))\n",
    "\n",
    "ax.bar(pd_df2[\"Frequency\"].value_counts().index,\n",
    "       pd_df2[\"Frequency\"].value_counts(),color=co)\n",
    "\n",
    "ax.set(title = \"Frequency VS No of Customers Plot\",\n",
    "       xlabel = \"Frequency\",\n",
    "       ylabel = \"No of Customers\",\n",
    "       xlim = (1,100))\n",
    "\n",
    "\n",
    "plt.show()"
   ]
  },
  {
   "cell_type": "code",
   "execution_count": 40,
   "metadata": {
    "colab": {
     "base_uri": "https://localhost:8080/",
     "height": 342
    },
    "colab_type": "code",
    "id": "ktQzQt9uZHi9",
    "outputId": "112f8850-360e-46c2-d7d0-3388607b576c"
   },
   "outputs": [
    {
     "data": {
      "image/png": "[encoded data removed]",
      "text/plain": [
       "<Figure size 1656x504 with 1 Axes>"
      ]
     },
     "metadata": {},
     "output_type": "display_data"
    }
   ],
   "source": [
    "#Group comparison of Frequency with Next transcaton of respective customers before filteration\n",
    "label=pd_df2.user_id[:10]\n",
    "plt.figure(figsize=(23,7))\n",
    "plt.style.use(\"seaborn\")\n",
    "plt.bar(pd_df2[\"user_id\"].index[:10],pd_df2[\"Frequency\"][:10],label=\"Frequency\",width=0.35)\n",
    "plt.bar(pd_df2[\"user_id\"].index[:10] +0.35,pd_df2[\"Next_Transaction\"][:10],label=\"Next_Transaction\",width=0.35)\n",
    "plt.xticks(pd_df2[\"user_id\"].index[:10]+0.35/2,label)\n",
    "plt.legend()\n",
    "plt.xlabel(\"Users with their id\")\n",
    "plt.title(\"Group comparison of Frequency with Next transcaton of respective customers\" )\n",
    "plt.show()"
   ]
  },
  {
   "cell_type": "code",
   "execution_count": 41,
   "metadata": {},
   "outputs": [],
   "source": [
    "orders =spark.read.format(\"csv\").load(\"hdfs://localhost:9000/user/deepak/orders/\")\n",
    "orders = orders.select(col(\"_c0\").alias(\"order_id\"), col(\"_c1\").alias(\"user_id\"),col(\"_c2\").alias(\"order_number\"),col(\"_c3\").alias(\"days_since_prior_order\"))"
   ]
  },
  {
   "cell_type": "code",
   "execution_count": 42,
   "metadata": {
    "colab": {},
    "colab_type": "code",
    "id": "f0LqL06CZYJo"
   },
   "outputs": [],
   "source": [
    "train_data = sqlContext.createDataFrame(df.head(100), df.schema)"
   ]
  },
  {
   "cell_type": "code",
   "execution_count": 43,
   "metadata": {},
   "outputs": [
    {
     "name": "stdout",
     "output_type": "stream",
     "text": [
      "(5753, 3)\n"
     ]
    }
   ],
   "source": [
    "print((df.count(), len(df.columns)))"
   ]
  },
  {
   "cell_type": "code",
   "execution_count": 44,
   "metadata": {},
   "outputs": [],
   "source": [
    "userorder = prod_order.join(orders, on = 'order_id', how = 'left_outer')"
   ]
  },
  {
   "cell_type": "code",
   "execution_count": 45,
   "metadata": {},
   "outputs": [
    {
     "name": "stdout",
     "output_type": "stream",
     "text": [
      "(1384617, 5)\n"
     ]
    }
   ],
   "source": [
    "print((userorder.count(), len(userorder.columns)))"
   ]
  },
  {
   "cell_type": "code",
   "execution_count": 46,
   "metadata": {},
   "outputs": [],
   "source": [
    "topuserorders = train_data.join(userorder, on = 'user_id', how = 'left_outer')"
   ]
  },
  {
   "cell_type": "code",
   "execution_count": 47,
   "metadata": {},
   "outputs": [
    {
     "name": "stdout",
     "output_type": "stream",
     "text": [
      "+-------+----------------+---------+--------+----------+------------+----------------------+\n",
      "|user_id|Next_Transaction|Frequency|order_id|product_id|order_number|days_since_prior_order|\n",
      "+-------+----------------+---------+--------+----------+------------+----------------------+\n",
      "| 100735|             7.0|       20|  198492|     46820|           5|                   7.0|\n",
      "| 100735|             7.0|       20|  198492|     13712|           5|                   7.0|\n",
      "| 100735|             7.0|       20|  198492|     10292|           5|                   7.0|\n",
      "| 100735|             7.0|       20|  198492|     32360|           5|                   7.0|\n",
      "| 100735|             7.0|       20|  198492|     28902|           5|                   7.0|\n",
      "| 100735|             7.0|       20|  198492|     34235|           5|                   7.0|\n",
      "| 100735|             7.0|       20|  198492|     39276|           5|                   7.0|\n",
      "| 100735|             7.0|       20|  198492|     38739|           5|                   7.0|\n",
      "| 100735|             7.0|       20|  198492|     26096|           5|                   7.0|\n",
      "| 100735|             7.0|       20|  198492|     46979|           5|                   7.0|\n",
      "| 100735|             7.0|       20|  198492|     21461|           5|                   7.0|\n",
      "| 100735|             7.0|       20|  198492|      4594|           5|                   7.0|\n",
      "| 100735|             7.0|       20|  198492|     13126|           5|                   7.0|\n",
      "| 100735|             7.0|       20|  198492|     48811|           5|                   7.0|\n",
      "| 100735|             7.0|       20|  198492|     38657|           5|                   7.0|\n",
      "| 100735|             7.0|       20|  198492|      5370|           5|                   7.0|\n",
      "| 100735|             7.0|       20|  198492|     15551|           5|                   7.0|\n",
      "| 100735|             7.0|       20|  198492|     33399|           5|                   7.0|\n",
      "| 100735|             7.0|       20|  198492|     32900|           5|                   7.0|\n",
      "| 100735|             7.0|       20|  198492|     24338|           5|                   7.0|\n",
      "+-------+----------------+---------+--------+----------+------------+----------------------+\n",
      "only showing top 20 rows\n",
      "\n"
     ]
    }
   ],
   "source": [
    "topuserorders.show()"
   ]
  },
  {
   "cell_type": "code",
   "execution_count": 48,
   "metadata": {},
   "outputs": [],
   "source": [
    "cod = topuserorders.crosstab('user_id','product_id')"
   ]
  },
  {
   "cell_type": "code",
   "execution_count": 49,
   "metadata": {},
   "outputs": [
    {
     "name": "stdout",
     "output_type": "stream",
     "text": [
      "(100, 1652)\n"
     ]
    }
   ],
   "source": [
    "print((cod.count(), len(cod.columns)))"
   ]
  },
  {
   "cell_type": "code",
   "execution_count": 50,
   "metadata": {},
   "outputs": [
    {
     "data": {
      "text/html": [
       "<div>\n",
       "<style scoped>\n",
       "    .dataframe tbody tr th:only-of-type {\n",
       "        vertical-align: middle;\n",
       "    }\n",
       "\n",
       "    .dataframe tbody tr th {\n",
       "        vertical-align: top;\n",
       "    }\n",
       "\n",
       "    .dataframe thead th {\n",
       "        text-align: right;\n",
       "    }\n",
       "</style>\n",
       "<table border=\"1\" class=\"dataframe\">\n",
       "  <thead>\n",
       "    <tr style=\"text-align: right;\">\n",
       "      <th>user_id_product_id</th>\n",
       "      <th>164558</th>\n",
       "      <th>63897</th>\n",
       "      <th>5023</th>\n",
       "      <th>164200</th>\n",
       "      <th>148958</th>\n",
       "      <th>143267</th>\n",
       "      <th>106022</th>\n",
       "      <th>114321</th>\n",
       "      <th>1903</th>\n",
       "      <th>147754</th>\n",
       "      <th>...</th>\n",
       "      <th>102970</th>\n",
       "      <th>87242</th>\n",
       "      <th>120478</th>\n",
       "      <th>98725</th>\n",
       "      <th>132204</th>\n",
       "      <th>40740</th>\n",
       "      <th>103634</th>\n",
       "      <th>18130</th>\n",
       "      <th>60351</th>\n",
       "      <th>146433</th>\n",
       "    </tr>\n",
       "    <tr>\n",
       "      <th>user_id_product_id</th>\n",
       "      <th></th>\n",
       "      <th></th>\n",
       "      <th></th>\n",
       "      <th></th>\n",
       "      <th></th>\n",
       "      <th></th>\n",
       "      <th></th>\n",
       "      <th></th>\n",
       "      <th></th>\n",
       "      <th></th>\n",
       "      <th></th>\n",
       "      <th></th>\n",
       "      <th></th>\n",
       "      <th></th>\n",
       "      <th></th>\n",
       "      <th></th>\n",
       "      <th></th>\n",
       "      <th></th>\n",
       "      <th></th>\n",
       "      <th></th>\n",
       "      <th></th>\n",
       "    </tr>\n",
       "  </thead>\n",
       "  <tbody>\n",
       "    <tr>\n",
       "      <th>164558</th>\n",
       "      <td>1.000000</td>\n",
       "      <td>0.000000</td>\n",
       "      <td>0.00000</td>\n",
       "      <td>0.071842</td>\n",
       "      <td>0.117670</td>\n",
       "      <td>0.030151</td>\n",
       "      <td>0.000000</td>\n",
       "      <td>0.044721</td>\n",
       "      <td>0.000000</td>\n",
       "      <td>0.000000</td>\n",
       "      <td>...</td>\n",
       "      <td>0.000000</td>\n",
       "      <td>0.044721</td>\n",
       "      <td>0.000000</td>\n",
       "      <td>0.034816</td>\n",
       "      <td>0.000000</td>\n",
       "      <td>0.0</td>\n",
       "      <td>0.030500</td>\n",
       "      <td>0.000000</td>\n",
       "      <td>0.000000</td>\n",
       "      <td>0.000000</td>\n",
       "    </tr>\n",
       "    <tr>\n",
       "      <th>63897</th>\n",
       "      <td>0.000000</td>\n",
       "      <td>1.000000</td>\n",
       "      <td>0.03745</td>\n",
       "      <td>0.064516</td>\n",
       "      <td>0.000000</td>\n",
       "      <td>0.054153</td>\n",
       "      <td>0.035223</td>\n",
       "      <td>0.000000</td>\n",
       "      <td>0.000000</td>\n",
       "      <td>0.033352</td>\n",
       "      <td>...</td>\n",
       "      <td>0.034565</td>\n",
       "      <td>0.000000</td>\n",
       "      <td>0.029934</td>\n",
       "      <td>0.000000</td>\n",
       "      <td>0.034565</td>\n",
       "      <td>0.0</td>\n",
       "      <td>0.082169</td>\n",
       "      <td>0.035223</td>\n",
       "      <td>0.039193</td>\n",
       "      <td>0.036662</td>\n",
       "    </tr>\n",
       "    <tr>\n",
       "      <th>5023</th>\n",
       "      <td>0.000000</td>\n",
       "      <td>0.037450</td>\n",
       "      <td>1.00000</td>\n",
       "      <td>0.000000</td>\n",
       "      <td>0.000000</td>\n",
       "      <td>0.031435</td>\n",
       "      <td>0.040893</td>\n",
       "      <td>0.000000</td>\n",
       "      <td>0.000000</td>\n",
       "      <td>0.000000</td>\n",
       "      <td>...</td>\n",
       "      <td>0.000000</td>\n",
       "      <td>0.093250</td>\n",
       "      <td>0.034752</td>\n",
       "      <td>0.000000</td>\n",
       "      <td>0.120386</td>\n",
       "      <td>0.0</td>\n",
       "      <td>0.095394</td>\n",
       "      <td>0.040893</td>\n",
       "      <td>0.091003</td>\n",
       "      <td>0.042563</td>\n",
       "    </tr>\n",
       "    <tr>\n",
       "      <th>164200</th>\n",
       "      <td>0.071842</td>\n",
       "      <td>0.064516</td>\n",
       "      <td>0.00000</td>\n",
       "      <td>1.000000</td>\n",
       "      <td>0.070447</td>\n",
       "      <td>0.054153</td>\n",
       "      <td>0.035223</td>\n",
       "      <td>0.040161</td>\n",
       "      <td>0.033942</td>\n",
       "      <td>0.000000</td>\n",
       "      <td>...</td>\n",
       "      <td>0.069130</td>\n",
       "      <td>0.080322</td>\n",
       "      <td>0.029934</td>\n",
       "      <td>0.000000</td>\n",
       "      <td>0.000000</td>\n",
       "      <td>0.0</td>\n",
       "      <td>0.054779</td>\n",
       "      <td>0.000000</td>\n",
       "      <td>0.039193</td>\n",
       "      <td>0.000000</td>\n",
       "    </tr>\n",
       "    <tr>\n",
       "      <th>148958</th>\n",
       "      <td>0.117670</td>\n",
       "      <td>0.000000</td>\n",
       "      <td>0.00000</td>\n",
       "      <td>0.070447</td>\n",
       "      <td>1.000000</td>\n",
       "      <td>0.000000</td>\n",
       "      <td>0.000000</td>\n",
       "      <td>0.043853</td>\n",
       "      <td>0.037062</td>\n",
       "      <td>0.000000</td>\n",
       "      <td>...</td>\n",
       "      <td>0.000000</td>\n",
       "      <td>0.043853</td>\n",
       "      <td>0.000000</td>\n",
       "      <td>0.000000</td>\n",
       "      <td>0.075485</td>\n",
       "      <td>0.0</td>\n",
       "      <td>0.029907</td>\n",
       "      <td>0.000000</td>\n",
       "      <td>0.000000</td>\n",
       "      <td>0.040032</td>\n",
       "    </tr>\n",
       "  </tbody>\n",
       "</table>\n",
       "<p>5 rows × 100 columns</p>\n",
       "</div>"
      ],
      "text/plain": [
       "user_id_product_id    164558     63897     5023    164200    148958    143267  \\\n",
       "user_id_product_id                                                              \n",
       "164558              1.000000  0.000000  0.00000  0.071842  0.117670  0.030151   \n",
       "63897               0.000000  1.000000  0.03745  0.064516  0.000000  0.054153   \n",
       "5023                0.000000  0.037450  1.00000  0.000000  0.000000  0.031435   \n",
       "164200              0.071842  0.064516  0.00000  1.000000  0.070447  0.054153   \n",
       "148958              0.117670  0.000000  0.00000  0.070447  1.000000  0.000000   \n",
       "\n",
       "user_id_product_id    106022    114321      1903    147754  ...    102970  \\\n",
       "user_id_product_id                                          ...             \n",
       "164558              0.000000  0.044721  0.000000  0.000000  ...  0.000000   \n",
       "63897               0.035223  0.000000  0.000000  0.033352  ...  0.034565   \n",
       "5023                0.040893  0.000000  0.000000  0.000000  ...  0.000000   \n",
       "164200              0.035223  0.040161  0.033942  0.000000  ...  0.069130   \n",
       "148958              0.000000  0.043853  0.037062  0.000000  ...  0.000000   \n",
       "\n",
       "user_id_product_id     87242    120478     98725    132204  40740    103634  \\\n",
       "user_id_product_id                                                            \n",
       "164558              0.044721  0.000000  0.034816  0.000000    0.0  0.030500   \n",
       "63897               0.000000  0.029934  0.000000  0.034565    0.0  0.082169   \n",
       "5023                0.093250  0.034752  0.000000  0.120386    0.0  0.095394   \n",
       "164200              0.080322  0.029934  0.000000  0.000000    0.0  0.054779   \n",
       "148958              0.043853  0.000000  0.000000  0.075485    0.0  0.029907   \n",
       "\n",
       "user_id_product_id     18130     60351    146433  \n",
       "user_id_product_id                                \n",
       "164558              0.000000  0.000000  0.000000  \n",
       "63897               0.035223  0.039193  0.036662  \n",
       "5023                0.040893  0.091003  0.042563  \n",
       "164200              0.000000  0.039193  0.000000  \n",
       "148958              0.000000  0.000000  0.040032  \n",
       "\n",
       "[5 rows x 100 columns]"
      ]
     },
     "execution_count": 50,
     "metadata": {},
     "output_type": "execute_result"
    }
   ],
   "source": [
    "codp = cod.toPandas()\n",
    "ind = codp['user_id_product_id']\n",
    "codp.drop(['user_id_product_id'],axis=1,inplace = True)\n",
    "similarity_mat = pd.DataFrame(cosine_similarity(codp), index = ind, columns = ind)\n",
    "similarity_mat.head()"
   ]
  },
  {
   "cell_type": "code",
   "execution_count": 51,
   "metadata": {},
   "outputs": [],
   "source": [
    "top = topuserorders.toPandas()"
   ]
  },
  {
   "cell_type": "code",
   "execution_count": 52,
   "metadata": {},
   "outputs": [],
   "source": [
    "prod = products.toPandas()"
   ]
  },
  {
   "cell_type": "code",
   "execution_count": 53,
   "metadata": {},
   "outputs": [],
   "source": [
    "pro = prod.set_index('product_id')"
   ]
  },
  {
   "cell_type": "code",
   "execution_count": 54,
   "metadata": {},
   "outputs": [],
   "source": [
    "def Recommender_System(user_id):\n",
    "    l = []\n",
    "    pro_count = top.groupby(['product_id','user_id']).size().sort_values(ascending=False).unstack().fillna(0)\n",
    "    \n",
    "    recommendations = pd.DataFrame(np.dot(pro_count.values,similarity_mat[str(user_id)]), index=pro_count.index,columns = ['score'])\n",
    "    reco = recommendations.sort_values(by = 'score', ascending =False)\n",
    "    re = reco.head(3)\n",
    "    for i,score in re.iterrows():\n",
    "        l.append(pro.iloc[int(i,10)]['product_name'])\n",
    "    return l"
   ]
  },
  {
   "cell_type": "code",
   "execution_count": 55,
   "metadata": {},
   "outputs": [
    {
     "data": {
      "text/plain": [
       "[\"Bag'N Season Pork Chops Seasoning Mix\",\n",
       " 'White Sugar Free Peppermint Gum',\n",
       " 'Ginger Peach Black Bagged Tea']"
      ]
     },
     "execution_count": 55,
     "metadata": {},
     "output_type": "execute_result"
    }
   ],
   "source": [
    "Recommender_System(164558)"
   ]
  },
  {
   "cell_type": "code",
   "execution_count": 56,
   "metadata": {},
   "outputs": [],
   "source": [
    "td = train_data.toPandas()"
   ]
  },
  {
   "cell_type": "code",
   "execution_count": 57,
   "metadata": {},
   "outputs": [
    {
     "data": {
      "text/html": [
       "<div>\n",
       "<style scoped>\n",
       "    .dataframe tbody tr th:only-of-type {\n",
       "        vertical-align: middle;\n",
       "    }\n",
       "\n",
       "    .dataframe tbody tr th {\n",
       "        vertical-align: top;\n",
       "    }\n",
       "\n",
       "    .dataframe thead th {\n",
       "        text-align: right;\n",
       "    }\n",
       "</style>\n",
       "<table border=\"1\" class=\"dataframe\">\n",
       "  <thead>\n",
       "    <tr style=\"text-align: right;\">\n",
       "      <th></th>\n",
       "      <th>user_id</th>\n",
       "      <th>Next_Transaction</th>\n",
       "      <th>Frequency</th>\n",
       "    </tr>\n",
       "  </thead>\n",
       "  <tbody>\n",
       "    <tr>\n",
       "      <th>0</th>\n",
       "      <td>100735</td>\n",
       "      <td>7.0</td>\n",
       "      <td>20</td>\n",
       "    </tr>\n",
       "    <tr>\n",
       "      <th>1</th>\n",
       "      <td>103634</td>\n",
       "      <td>6.0</td>\n",
       "      <td>43</td>\n",
       "    </tr>\n",
       "    <tr>\n",
       "      <th>2</th>\n",
       "      <td>106022</td>\n",
       "      <td>3.0</td>\n",
       "      <td>26</td>\n",
       "    </tr>\n",
       "    <tr>\n",
       "      <th>3</th>\n",
       "      <td>108791</td>\n",
       "      <td>4.0</td>\n",
       "      <td>20</td>\n",
       "    </tr>\n",
       "    <tr>\n",
       "      <th>4</th>\n",
       "      <td>11888</td>\n",
       "      <td>6.0</td>\n",
       "      <td>26</td>\n",
       "    </tr>\n",
       "  </tbody>\n",
       "</table>\n",
       "</div>"
      ],
      "text/plain": [
       "  user_id  Next_Transaction  Frequency\n",
       "0  100735               7.0         20\n",
       "1  103634               6.0         43\n",
       "2  106022               3.0         26\n",
       "3  108791               4.0         20\n",
       "4   11888               6.0         26"
      ]
     },
     "execution_count": 57,
     "metadata": {},
     "output_type": "execute_result"
    }
   ],
   "source": [
    "td.head()"
   ]
  },
  {
   "cell_type": "code",
   "execution_count": 58,
   "metadata": {},
   "outputs": [],
   "source": [
    "top_cust = td.set_index('user_id')"
   ]
  },
  {
   "cell_type": "code",
   "execution_count": 59,
   "metadata": {},
   "outputs": [
    {
     "data": {
      "text/html": [
       "<div>\n",
       "<style scoped>\n",
       "    .dataframe tbody tr th:only-of-type {\n",
       "        vertical-align: middle;\n",
       "    }\n",
       "\n",
       "    .dataframe tbody tr th {\n",
       "        vertical-align: top;\n",
       "    }\n",
       "\n",
       "    .dataframe thead th {\n",
       "        text-align: right;\n",
       "    }\n",
       "</style>\n",
       "<table border=\"1\" class=\"dataframe\">\n",
       "  <thead>\n",
       "    <tr style=\"text-align: right;\">\n",
       "      <th></th>\n",
       "      <th>Next_Transaction</th>\n",
       "      <th>Frequency</th>\n",
       "    </tr>\n",
       "    <tr>\n",
       "      <th>user_id</th>\n",
       "      <th></th>\n",
       "      <th></th>\n",
       "    </tr>\n",
       "  </thead>\n",
       "  <tbody>\n",
       "    <tr>\n",
       "      <th>100735</th>\n",
       "      <td>7.0</td>\n",
       "      <td>20</td>\n",
       "    </tr>\n",
       "    <tr>\n",
       "      <th>103634</th>\n",
       "      <td>6.0</td>\n",
       "      <td>43</td>\n",
       "    </tr>\n",
       "    <tr>\n",
       "      <th>106022</th>\n",
       "      <td>3.0</td>\n",
       "      <td>26</td>\n",
       "    </tr>\n",
       "    <tr>\n",
       "      <th>108791</th>\n",
       "      <td>4.0</td>\n",
       "      <td>20</td>\n",
       "    </tr>\n",
       "    <tr>\n",
       "      <th>11888</th>\n",
       "      <td>6.0</td>\n",
       "      <td>26</td>\n",
       "    </tr>\n",
       "  </tbody>\n",
       "</table>\n",
       "</div>"
      ],
      "text/plain": [
       "         Next_Transaction  Frequency\n",
       "user_id                             \n",
       "100735                7.0         20\n",
       "103634                6.0         43\n",
       "106022                3.0         26\n",
       "108791                4.0         20\n",
       "11888                 6.0         26"
      ]
     },
     "execution_count": 59,
     "metadata": {},
     "output_type": "execute_result"
    }
   ],
   "source": [
    "top_cust.head()"
   ]
  },
  {
   "cell_type": "code",
   "execution_count": 60,
   "metadata": {},
   "outputs": [],
   "source": [
    "pro_rec ={}\n",
    "for a,b in top_cust.iterrows():\n",
    "    pro_rec[a] = Recommender_System(a)"
   ]
  },
  {
   "cell_type": "code",
   "execution_count": 61,
   "metadata": {},
   "outputs": [],
   "source": [
    "from collections import OrderedDict\n",
    "final_dict=OrderedDict(sorted(pro_rec.items()))"
   ]
  },
  {
   "cell_type": "code",
   "execution_count": 62,
   "metadata": {},
   "outputs": [],
   "source": [
    "final=pd.DataFrame.from_dict(final_dict, orient='index',columns = ['Next_Best_offer','Second_Best_offer','Third_best_offer'])\n",
    "final.index.name = 'user_id'"
   ]
  },
  {
   "cell_type": "code",
   "execution_count": 63,
   "metadata": {},
   "outputs": [
    {
     "data": {
      "text/plain": [
       "(100, 3)"
      ]
     },
     "execution_count": 63,
     "metadata": {},
     "output_type": "execute_result"
    }
   ],
   "source": [
    "final.shape"
   ]
  },
  {
   "cell_type": "code",
   "execution_count": 82,
   "metadata": {},
   "outputs": [
    {
     "data": {
      "text/html": [
       "<div>\n",
       "<style scoped>\n",
       "    .dataframe tbody tr th:only-of-type {\n",
       "        vertical-align: middle;\n",
       "    }\n",
       "\n",
       "    .dataframe tbody tr th {\n",
       "        vertical-align: top;\n",
       "    }\n",
       "\n",
       "    .dataframe thead th {\n",
       "        text-align: right;\n",
       "    }\n",
       "</style>\n",
       "<table border=\"1\" class=\"dataframe\">\n",
       "  <thead>\n",
       "    <tr style=\"text-align: right;\">\n",
       "      <th></th>\n",
       "      <th>Next_Best_offer</th>\n",
       "      <th>Second_Best_offer</th>\n",
       "      <th>Third_best_offer</th>\n",
       "    </tr>\n",
       "    <tr>\n",
       "      <th>user_id</th>\n",
       "      <th></th>\n",
       "      <th></th>\n",
       "      <th></th>\n",
       "    </tr>\n",
       "  </thead>\n",
       "  <tbody>\n",
       "    <tr>\n",
       "      <th>100735</th>\n",
       "      <td>Egg Pasta Fettuccine</td>\n",
       "      <td>Red In Extra Light Syrup Grapefruit</td>\n",
       "      <td>Peach Rings Candy</td>\n",
       "    </tr>\n",
       "    <tr>\n",
       "      <th>100824</th>\n",
       "      <td>Fat Free Low Sodium Poppyseed Dressing</td>\n",
       "      <td>Bio Active Manuka Honey with Ginger</td>\n",
       "      <td>Salsa Ranch Yogurt Dressing</td>\n",
       "    </tr>\n",
       "    <tr>\n",
       "      <th>100953</th>\n",
       "      <td>Shredded 3 Cheese Italian</td>\n",
       "      <td>Fat Free Low Sodium Poppyseed Dressing</td>\n",
       "      <td>Warrior Blend Vanilla Dietary Supplement</td>\n",
       "    </tr>\n",
       "    <tr>\n",
       "      <th>102970</th>\n",
       "      <td>Gluten-Free Chipotle BBQ Black Bean Chips</td>\n",
       "      <td>Grilled Chicken Pesto with Vegetables Cafe Ste...</td>\n",
       "      <td>Fat Free Low Sodium Poppyseed Dressing</td>\n",
       "    </tr>\n",
       "    <tr>\n",
       "      <th>103634</th>\n",
       "      <td>Fat Free Low Sodium Poppyseed Dressing</td>\n",
       "      <td>Warrior Blend Vanilla Dietary Supplement</td>\n",
       "      <td>Shredded 3 Cheese Italian</td>\n",
       "    </tr>\n",
       "    <tr>\n",
       "      <th>106022</th>\n",
       "      <td>Fat Free Low Sodium Poppyseed Dressing</td>\n",
       "      <td>Bio Active Manuka Honey with Ginger</td>\n",
       "      <td>Warrior Blend Vanilla Dietary Supplement</td>\n",
       "    </tr>\n",
       "    <tr>\n",
       "      <th>108502</th>\n",
       "      <td>Warrior Blend Vanilla Dietary Supplement</td>\n",
       "      <td>Organic Rose Maqui &amp; Cocao Bar</td>\n",
       "      <td>Gluten Free Quinoa Rotelle Pasta</td>\n",
       "    </tr>\n",
       "    <tr>\n",
       "      <th>108791</th>\n",
       "      <td>Shredded 3 Cheese Italian</td>\n",
       "      <td>Warrior Blend Vanilla Dietary Supplement</td>\n",
       "      <td>Earth Paste Amazingly Natural Toothpaste Peppe...</td>\n",
       "    </tr>\n",
       "    <tr>\n",
       "      <th>110084</th>\n",
       "      <td>Fat Free Low Sodium Poppyseed Dressing</td>\n",
       "      <td>Shredded 3 Cheese Italian</td>\n",
       "      <td>Salsa Ranch Yogurt Dressing</td>\n",
       "    </tr>\n",
       "    <tr>\n",
       "      <th>113864</th>\n",
       "      <td>Shredded 3 Cheese Italian</td>\n",
       "      <td>Warrior Blend Vanilla Dietary Supplement</td>\n",
       "      <td>Fat Free Low Sodium Poppyseed Dressing</td>\n",
       "    </tr>\n",
       "    <tr>\n",
       "      <th>114144</th>\n",
       "      <td>Almond Gold Bar</td>\n",
       "      <td>Bag'N Season Pork Chops Seasoning Mix</td>\n",
       "      <td>Egg Pasta Fettuccine</td>\n",
       "    </tr>\n",
       "    <tr>\n",
       "      <th>114321</th>\n",
       "      <td>Fat Free Low Sodium Poppyseed Dressing</td>\n",
       "      <td>Almond Gold Bar</td>\n",
       "      <td>Earth Paste Amazingly Natural Toothpaste Peppe...</td>\n",
       "    </tr>\n",
       "  </tbody>\n",
       "</table>\n",
       "</div>"
      ],
      "text/plain": [
       "                                   Next_Best_offer  \\\n",
       "user_id                                              \n",
       "100735                        Egg Pasta Fettuccine   \n",
       "100824      Fat Free Low Sodium Poppyseed Dressing   \n",
       "100953                   Shredded 3 Cheese Italian   \n",
       "102970   Gluten-Free Chipotle BBQ Black Bean Chips   \n",
       "103634      Fat Free Low Sodium Poppyseed Dressing   \n",
       "106022      Fat Free Low Sodium Poppyseed Dressing   \n",
       "108502    Warrior Blend Vanilla Dietary Supplement   \n",
       "108791                   Shredded 3 Cheese Italian   \n",
       "110084      Fat Free Low Sodium Poppyseed Dressing   \n",
       "113864                   Shredded 3 Cheese Italian   \n",
       "114144                             Almond Gold Bar   \n",
       "114321      Fat Free Low Sodium Poppyseed Dressing   \n",
       "\n",
       "                                         Second_Best_offer  \\\n",
       "user_id                                                      \n",
       "100735                 Red In Extra Light Syrup Grapefruit   \n",
       "100824                 Bio Active Manuka Honey with Ginger   \n",
       "100953              Fat Free Low Sodium Poppyseed Dressing   \n",
       "102970   Grilled Chicken Pesto with Vegetables Cafe Ste...   \n",
       "103634            Warrior Blend Vanilla Dietary Supplement   \n",
       "106022                 Bio Active Manuka Honey with Ginger   \n",
       "108502                      Organic Rose Maqui & Cocao Bar   \n",
       "108791            Warrior Blend Vanilla Dietary Supplement   \n",
       "110084                           Shredded 3 Cheese Italian   \n",
       "113864            Warrior Blend Vanilla Dietary Supplement   \n",
       "114144               Bag'N Season Pork Chops Seasoning Mix   \n",
       "114321                                     Almond Gold Bar   \n",
       "\n",
       "                                          Third_best_offer  \n",
       "user_id                                                     \n",
       "100735                                   Peach Rings Candy  \n",
       "100824                         Salsa Ranch Yogurt Dressing  \n",
       "100953            Warrior Blend Vanilla Dietary Supplement  \n",
       "102970              Fat Free Low Sodium Poppyseed Dressing  \n",
       "103634                           Shredded 3 Cheese Italian  \n",
       "106022            Warrior Blend Vanilla Dietary Supplement  \n",
       "108502                    Gluten Free Quinoa Rotelle Pasta  \n",
       "108791   Earth Paste Amazingly Natural Toothpaste Peppe...  \n",
       "110084                         Salsa Ranch Yogurt Dressing  \n",
       "113864              Fat Free Low Sodium Poppyseed Dressing  \n",
       "114144                                Egg Pasta Fettuccine  \n",
       "114321   Earth Paste Amazingly Natural Toothpaste Peppe...  "
      ]
     },
     "execution_count": 82,
     "metadata": {},
     "output_type": "execute_result"
    }
   ],
   "source": [
    "final.head(12)"
   ]
  },
  {
   "cell_type": "code",
   "execution_count": null,
   "metadata": {},
   "outputs": [],
   "source": []
  }
 ],
 "metadata": {
  "colab": {
   "name": "NEXT_BEST_OFFER.ipynb",
   "provenance": []
  },
  "kernelspec": {
   "display_name": "Python 3",
   "language": "python",
   "name": "python3"
  },
  "language_info": {
   "codemirror_mode": {
    "name": "ipython",
    "version": 3
   },
   "file_extension": ".py",
   "mimetype": "text/x-python",
   "name": "python",
   "nbconvert_exporter": "python",
   "pygments_lexer": "ipython3",
   "version": "3.7.6"
  }
 },
 "nbformat": 4,
 "nbformat_minor": 1
}
